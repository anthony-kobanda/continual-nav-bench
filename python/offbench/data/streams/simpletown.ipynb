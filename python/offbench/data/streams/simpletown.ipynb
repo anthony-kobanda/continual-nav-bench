{
 "cells": [
  {
   "cell_type": "markdown",
   "metadata": {},
   "source": [
    "# **SimpleTown Streams**"
   ]
  },
  {
   "cell_type": "markdown",
   "metadata": {},
   "source": [
    "___\n",
    "___"
   ]
  },
  {
   "cell_type": "code",
   "execution_count": 57,
   "metadata": {},
   "outputs": [],
   "source": [
    "import random as rd\n",
    "\n",
    "seed = 200\n",
    "\n",
    "n_tasks = 8"
   ]
  },
  {
   "cell_type": "code",
   "execution_count": 58,
   "metadata": {},
   "outputs": [],
   "source": [
    "env = \"simpletown\"\n",
    "\n",
    "mazes = [\n",
    "    \"maze_0\",\n",
    "    \"maze_1\",\n",
    "    \"maze_2\",\n",
    "    \"maze_3\",\n",
    "    \"maze_4\",\n",
    "    \"maze_5\",\n",
    "    \"maze_6\",\n",
    "    \"maze_7\",\n",
    "]"
   ]
  },
  {
   "cell_type": "markdown",
   "metadata": {},
   "source": [
    "___\n"
   ]
  },
  {
   "cell_type": "markdown",
   "metadata": {},
   "source": [
    "#### *Topological Streams*"
   ]
  },
  {
   "cell_type": "code",
   "execution_count": 59,
   "metadata": {},
   "outputs": [
    {
     "name": "stdout",
     "output_type": "stream",
     "text": [
      "TOPOLOGICAL STREAM 1\n",
      "\n",
      "- simpletown-maze_0\n",
      "- simpletown-maze_3\n",
      "- simpletown-maze_0\n",
      "- simpletown-maze_2\n",
      "- simpletown-maze_4\n",
      "- simpletown-maze_0\n",
      "- simpletown-maze_7\n",
      "- simpletown-maze_2\n",
      "\n",
      "TOPOLOGICAL STREAM 2\n",
      "\n",
      "- simpletown-maze_0\n",
      "- simpletown-maze_7\n",
      "- simpletown-maze_4\n",
      "- simpletown-maze_7\n",
      "- simpletown-maze_7\n",
      "- simpletown-maze_3\n",
      "- simpletown-maze_3\n",
      "- simpletown-maze_1\n"
     ]
    }
   ],
   "source": [
    "rd.seed(seed)\n",
    "\n",
    "# STREAM 1\n",
    "print(\"TOPOLOGICAL STREAM 1\\n\")\n",
    "for n in range(n_tasks):\n",
    "    maze = rd.choice(mazes)\n",
    "    print(f\"- {env}-{maze}\")\n",
    "\n",
    "# STREAM 2\n",
    "print(\"\\nTOPOLOGICAL STREAM 2\\n\")\n",
    "for n in range(n_tasks):\n",
    "    maze = rd.choice(mazes)\n",
    "    print(f\"- {env}-{maze}\")"
   ]
  },
  {
   "cell_type": "markdown",
   "metadata": {},
   "source": [
    "___\n",
    "___"
   ]
  }
 ],
 "metadata": {
  "kernelspec": {
   "display_name": "offbench",
   "language": "python",
   "name": "python3"
  },
  "language_info": {
   "codemirror_mode": {
    "name": "ipython",
    "version": 3
   },
   "file_extension": ".py",
   "mimetype": "text/x-python",
   "name": "python",
   "nbconvert_exporter": "python",
   "pygments_lexer": "ipython3",
   "version": "3.10.14"
  }
 },
 "nbformat": 4,
 "nbformat_minor": 2
}
