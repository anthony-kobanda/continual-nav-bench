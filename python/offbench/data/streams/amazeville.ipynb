{
 "cells": [
  {
   "cell_type": "markdown",
   "metadata": {},
   "source": [
    "# **AmazeVille Streams**"
   ]
  },
  {
   "cell_type": "markdown",
   "metadata": {},
   "source": [
    "___\n",
    "___"
   ]
  },
  {
   "cell_type": "code",
   "execution_count": 14,
   "metadata": {},
   "outputs": [],
   "source": [
    "import random as rd\n",
    "\n",
    "seed = 100\n",
    "\n",
    "n_tasks = 8"
   ]
  },
  {
   "cell_type": "code",
   "execution_count": 15,
   "metadata": {},
   "outputs": [],
   "source": [
    "env = \"amazeville\"\n",
    "\n",
    "mazes = [\n",
    "    \"maze_1\",\n",
    "    \"maze_2\",\n",
    "    \"maze_3\",\n",
    "    \"maze_4\"\n",
    "]\n",
    "\n",
    "levels = [\n",
    "    \"high\",\n",
    "    \"low\"\n",
    "]"
   ]
  },
  {
   "cell_type": "markdown",
   "metadata": {},
   "source": [
    "___\n"
   ]
  },
  {
   "cell_type": "markdown",
   "metadata": {},
   "source": [
    "#### *Random Streams*"
   ]
  },
  {
   "cell_type": "code",
   "execution_count": 16,
   "metadata": {},
   "outputs": [
    {
     "name": "stdout",
     "output_type": "stream",
     "text": [
      "RANDOM STREAM 1\n",
      "\n",
      "- amazeville-maze_2-low\n",
      "- amazeville-maze_4-high\n",
      "- amazeville-maze_4-low\n",
      "- amazeville-maze_4-high\n",
      "- amazeville-maze_1-high\n",
      "- amazeville-maze_4-low\n",
      "- amazeville-maze_1-high\n",
      "- amazeville-maze_3-high\n",
      "\n",
      "RANDOM STREAM 2\n",
      "\n",
      "- amazeville-maze_3-high\n",
      "- amazeville-maze_2-high\n",
      "- amazeville-maze_2-low\n",
      "- amazeville-maze_3-low\n",
      "- amazeville-maze_2-low\n",
      "- amazeville-maze_4-low\n",
      "- amazeville-maze_4-high\n",
      "- amazeville-maze_1-high\n"
     ]
    }
   ],
   "source": [
    "rd.seed(seed)\n",
    "\n",
    "# STREAM 1\n",
    "print(\"RANDOM STREAM 1\\n\")\n",
    "for n in range(n_tasks):\n",
    "    maze = rd.choice(mazes)\n",
    "    level = rd.choice(levels)\n",
    "    print(f\"- {env}-{maze}-{level}\")\n",
    "\n",
    "# STREAM 2\n",
    "print(\"\\nRANDOM STREAM 2\\n\")\n",
    "for n in range(n_tasks):\n",
    "    maze = rd.choice(mazes)\n",
    "    level = rd.choice(levels)\n",
    "    print(f\"- {env}-{maze}-{level}\")"
   ]
  },
  {
   "cell_type": "markdown",
   "metadata": {},
   "source": [
    "___"
   ]
  },
  {
   "cell_type": "markdown",
   "metadata": {},
   "source": [
    "#### *Topological Streams*"
   ]
  },
  {
   "cell_type": "code",
   "execution_count": 17,
   "metadata": {},
   "outputs": [
    {
     "name": "stdout",
     "output_type": "stream",
     "text": [
      "TOPOLOGICAL STREAM 1\n",
      "\n",
      "- amazeville-maze_2-high\n",
      "- amazeville-maze_4-high\n",
      "- amazeville-maze_4-high\n",
      "- amazeville-maze_2-high\n",
      "- amazeville-maze_4-high\n",
      "- amazeville-maze_3-high\n",
      "- amazeville-maze_4-high\n",
      "- amazeville-maze_1-high\n",
      "\n",
      "TOPOLOGICAL STREAM 2\n",
      "\n",
      "- amazeville-maze_1-low\n",
      "- amazeville-maze_1-low\n",
      "- amazeville-maze_4-low\n",
      "- amazeville-maze_3-low\n",
      "- amazeville-maze_1-low\n",
      "- amazeville-maze_2-low\n",
      "- amazeville-maze_3-low\n",
      "- amazeville-maze_2-low\n"
     ]
    }
   ],
   "source": [
    "rd.seed(seed)\n",
    "\n",
    "# STREAM 1\n",
    "print(\"TOPOLOGICAL STREAM 1\\n\")\n",
    "for n in range(n_tasks):\n",
    "    maze = rd.choice(mazes)\n",
    "    level = \"high\"\n",
    "    print(f\"- {env}-{maze}-{level}\")\n",
    "\n",
    "# STREAM 2\n",
    "print(\"\\nTOPOLOGICAL STREAM 2\\n\")\n",
    "for n in range(n_tasks):\n",
    "    maze = rd.choice(mazes)\n",
    "    level = \"low\"\n",
    "    print(f\"- {env}-{maze}-{level}\")"
   ]
  },
  {
   "cell_type": "markdown",
   "metadata": {},
   "source": [
    "___\n",
    "___"
   ]
  }
 ],
 "metadata": {
  "kernelspec": {
   "display_name": "offbench",
   "language": "python",
   "name": "python3"
  },
  "language_info": {
   "codemirror_mode": {
    "name": "ipython",
    "version": 3
   },
   "file_extension": ".py",
   "mimetype": "text/x-python",
   "name": "python",
   "nbconvert_exporter": "python",
   "pygments_lexer": "ipython3",
   "version": "3.10.14"
  }
 },
 "nbformat": 4,
 "nbformat_minor": 2
}
